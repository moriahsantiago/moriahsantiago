{
  "nbformat": 4,
  "nbformat_minor": 0,
  "metadata": {
    "colab": {
      "provenance": [],
      "include_colab_link": true
    },
    "kernelspec": {
      "name": "ir",
      "display_name": "R"
    },
    "language_info": {
      "name": "R"
    }
  },
  "cells": [
    {
      "cell_type": "markdown",
      "metadata": {
        "id": "view-in-github",
        "colab_type": "text"
      },
      "source": [
        "<a href=\"https://colab.research.google.com/github/moriahsantiago/moriahsantiago/blob/main/M3_Data_and_Measurement_Validity_Exploratory_Exercises.ipynb\" target=\"_parent\"><img src=\"https://colab.research.google.com/assets/colab-badge.svg\" alt=\"Open In Colab\"/></a>"
      ]
    },
    {
      "cell_type": "markdown",
      "source": [
        "# Part 1. Instrumental Variables with R\n",
        "* Before you start, make sure you're using R for this activity by going to Runtime > Change Runtime type > R"
      ],
      "metadata": {
        "id": "An_EKLx0khwH"
      }
    },
    {
      "cell_type": "markdown",
      "source": [
        "## I. Introduction\n",
        "This tutorial provides a simple example of IVE. Estimates of the ATE are computed using two-stage least squares.\n",
        "\n",
        "## II. Data\n",
        "We will use the \"CollegeDistance\" data set, which is part of the AER package. This package contains several datasets that correspond with the Applied Econometrics with R textbook by Christian Kleiber and\n",
        "Achim Zeileis. The dataset contains data from a survey of high school graduates with information on wages,\n",
        "education, average tuition, and multiple demographic variables.\n",
        "We are interested in estimating the effect of a student’s education on his/her wages. However, there is a selection bias because students cannot be randomly assigned to a specific education level. We will use distance\n",
        "from a college as an IV in estimating the effect of education on wages. The idea is that distance affects a person’s future wages by affecting the person’s decision to pursue a college degree."
      ],
      "metadata": {
        "id": "hm17aqpTmSUn"
      }
    },
    {
      "cell_type": "code",
      "source": [
        "knitr::opts_chunk$set(echo = TRUE)"
      ],
      "metadata": {
        "id": "NF8PWYbjlkJV"
      },
      "execution_count": 2,
      "outputs": []
    },
    {
      "cell_type": "code",
      "source": [
        "install.packages(\"pacman\")"
      ],
      "metadata": {
        "colab": {
          "base_uri": "https://localhost:8080/"
        },
        "id": "UrAkLS2Clnfk",
        "outputId": "bd6ec066-36d2-4acd-9a5c-44511207c847"
      },
      "execution_count": 3,
      "outputs": [
        {
          "output_type": "stream",
          "name": "stderr",
          "text": [
            "Installing package into ‘/usr/local/lib/R/site-library’\n",
            "(as ‘lib’ is unspecified)\n",
            "\n"
          ]
        }
      ]
    },
    {
      "cell_type": "code",
      "execution_count": 8,
      "metadata": {
        "colab": {
          "base_uri": "https://localhost:8080/",
          "height": 885
        },
        "id": "d3KJhX7ckWai",
        "outputId": "60c914a6-1fe7-4f1f-c6b0-22730ebec30f"
      },
      "outputs": [
        {
          "output_type": "stream",
          "name": "stderr",
          "text": [
            "Installing package into ‘/usr/local/lib/R/site-library’\n",
            "(as ‘lib’ is unspecified)\n",
            "\n",
            "Installing package into ‘/usr/local/lib/R/site-library’\n",
            "(as ‘lib’ is unspecified)\n",
            "\n",
            "Installing package into ‘/usr/local/lib/R/site-library’\n",
            "(as ‘lib’ is unspecified)\n",
            "\n",
            "Installing package into ‘/usr/local/lib/R/site-library’\n",
            "(as ‘lib’ is unspecified)\n",
            "\n",
            "Installing package into ‘/usr/local/lib/R/site-library’\n",
            "(as ‘lib’ is unspecified)\n",
            "\n",
            "Installing package into ‘/usr/local/lib/R/site-library’\n",
            "(as ‘lib’ is unspecified)\n",
            "\n"
          ]
        },
        {
          "output_type": "display_data",
          "data": {
            "text/html": [],
            "text/markdown": "",
            "text/latex": "",
            "text/plain": [
              "character(0)"
            ]
          },
          "metadata": {}
        },
        {
          "output_type": "stream",
          "name": "stderr",
          "text": [
            "Loading required package: car\n",
            "\n",
            "Loading required package: carData\n",
            "\n",
            "Loading required package: sandwich\n",
            "\n",
            "Loading required package: survival\n",
            "\n",
            "Registered S3 methods overwritten by 'ivreg':\n",
            "  method              from\n",
            "  anova.ivreg         AER \n",
            "  hatvalues.ivreg     AER \n",
            "  model.matrix.ivreg  AER \n",
            "  predict.ivreg       AER \n",
            "  print.ivreg         AER \n",
            "  print.summary.ivreg AER \n",
            "  summary.ivreg       AER \n",
            "  terms.ivreg         AER \n",
            "  update.ivreg        AER \n",
            "  vcov.ivreg          AER \n",
            "\n",
            "\n",
            "Attaching package: ‘ivreg’\n",
            "\n",
            "\n",
            "The following objects are masked from ‘package:AER’:\n",
            "\n",
            "    ivreg, ivreg.fit\n",
            "\n",
            "\n",
            "Loading required package: Matrix\n",
            "\n"
          ]
        }
      ],
      "source": [
        "install.packages(\"lme4\")\n",
        "install.packages(\"pbkrtest\")\n",
        "install.packages(\"car\")\n",
        "install.packages(\"AER\")\n",
        "install.packages(\"lmtest\")\n",
        "install.packages(\"ivreg\")\n",
        "\n",
        "installed_packages <- installed.packages()[,1]\n",
        "required_packages <- c(\"AER\", \"lmtest\", \"ivreg\", \"car\", \"lme4\", \"pbkrtest\")\n",
        "\n",
        "# Check which required packages are installed\n",
        "setdiff(required_packages, installed_packages)\n",
        "\n",
        "library(AER)\n",
        "library(lmtest)\n",
        "library(ivreg)\n",
        "library(car)\n",
        "library(lme4)\n",
        "library(pbkrtest)"
      ]
    },
    {
      "cell_type": "markdown",
      "source": [
        "## III. Two Stage Least Squares\n",
        "The following code demonstrates the idea of two stage least squares."
      ],
      "metadata": {
        "id": "pPcx9I_TlxeB"
      }
    },
    {
      "cell_type": "code",
      "source": [
        "data(\"CollegeDistance\", package = \"AER\")\n",
        "library(AER)\n",
        "\n",
        "m1 <- lm(education ~ distance, data=CollegeDistance)\n",
        "\n",
        "CollegeDistance$ed.pred <- predict(m1)\n",
        "\n",
        "m2 <- lm(wage ~ ed.pred,data=CollegeDistance)\n",
        "\n",
        "summary(m2)"
      ],
      "metadata": {
        "colab": {
          "base_uri": "https://localhost:8080/",
          "height": 329
        },
        "id": "zE0UYrinktcx",
        "outputId": "74fb2842-41e1-489d-9082-5d951cb5870e"
      },
      "execution_count": 11,
      "outputs": [
        {
          "output_type": "display_data",
          "data": {
            "text/plain": [
              "\n",
              "Call:\n",
              "lm(formula = wage ~ ed.pred, data = CollegeDistance)\n",
              "\n",
              "Residuals:\n",
              "    Min      1Q  Median      3Q     Max \n",
              "-2.9109 -0.6507  0.1794  0.6494  3.4611 \n",
              "\n",
              "Coefficients:\n",
              "            Estimate Std. Error t value Pr(>|t|)    \n",
              "(Intercept) 9.457076   1.616321   5.851 5.22e-09 ***\n",
              "ed.pred     0.003145   0.117050   0.027    0.979    \n",
              "---\n",
              "Signif. codes:  0 ‘***’ 0.001 ‘**’ 0.01 ‘*’ 0.05 ‘.’ 0.1 ‘ ’ 1\n",
              "\n",
              "Residual standard error: 1.343 on 4737 degrees of freedom\n",
              "Multiple R-squared:  1.524e-07,\tAdjusted R-squared:  -0.000211 \n",
              "F-statistic: 0.0007221 on 1 and 4737 DF,  p-value: 0.9786\n"
            ]
          },
          "metadata": {}
        }
      ]
    },
    {
      "cell_type": "markdown",
      "source": [
        "## IV. Using ivreg\n",
        "We can also derive estimates of the ATE using the ivreg function. The IV are listed after the vertical bar."
      ],
      "metadata": {
        "id": "u3WwOqNelzPn"
      }
    },
    {
      "cell_type": "code",
      "source": [
        "m3 <- ivreg(wage ~ education|distance,data=CollegeDistance)\n",
        "\n",
        "summary(m3)"
      ],
      "metadata": {
        "colab": {
          "base_uri": "https://localhost:8080/",
          "height": 434
        },
        "id": "2zB9TpWAkx0E",
        "outputId": "741617fe-1480-453c-f85d-4bfad61b47da"
      },
      "execution_count": 12,
      "outputs": [
        {
          "output_type": "display_data",
          "data": {
            "text/plain": [
              "\n",
              "Call:\n",
              "ivreg(formula = wage ~ education | distance, data = CollegeDistance)\n",
              "\n",
              "Residuals:\n",
              "    Min      1Q  Median      3Q     Max \n",
              "-2.9205 -0.6480  0.1852  0.6520  3.4652 \n",
              "\n",
              "Coefficients:\n",
              "            Estimate Std. Error t value Pr(>|t|)    \n",
              "(Intercept) 9.457076   1.616174   5.852  5.2e-09 ***\n",
              "education   0.003145   0.117040   0.027    0.979    \n",
              "\n",
              "Diagnostic tests:\n",
              "                  df1  df2 statistic p-value    \n",
              "Weak instruments    1 4737    41.492 1.3e-10 ***\n",
              "Wu-Hausman          1 4736     0.016   0.899    \n",
              "Sargan              0   NA        NA      NA    \n",
              "---\n",
              "Signif. codes:  0 ‘***’ 0.001 ‘**’ 0.01 ‘*’ 0.05 ‘.’ 0.1 ‘ ’ 1\n",
              "\n",
              "Residual standard error: 1.343 on 4737 degrees of freedom\n",
              "Multiple R-Squared: 0.0001824,\tAdjusted R-squared: -2.869e-05 \n",
              "Wald test: 0.0007222 on 1 and 4737 DF,  p-value: 0.9786 \n"
            ]
          },
          "metadata": {}
        }
      ]
    },
    {
      "cell_type": "markdown",
      "source": [
        "\n",
        "## V. Covariates as instruments\n",
        "In the following code, covariates entered in the first stage are considered ``instruments.\" Note that the ivreg function used here is from the AER package."
      ],
      "metadata": {
        "id": "IoWfVVMQl1VF"
      }
    },
    {
      "cell_type": "code",
      "source": [
        "m4 <- ivreg(wage ~ urban + gender + ethnicity + unemp +\n",
        "              education|distance+urban + gender + ethnicity + unemp,\n",
        "            data = CollegeDistance)\n",
        "\n",
        "summary(m4)"
      ],
      "metadata": {
        "colab": {
          "base_uri": "https://localhost:8080/",
          "height": 538
        },
        "id": "rR9JegYLlIzq",
        "outputId": "8249d2da-a487-4eea-8d3c-91d690622f40"
      },
      "execution_count": 29,
      "outputs": [
        {
          "output_type": "display_data",
          "data": {
            "text/plain": [
              "\n",
              "Call:\n",
              "ivreg(formula = wage ~ urban + gender + ethnicity + unemp + education | \n",
              "    distance + urban + gender + ethnicity + unemp, data = CollegeDistance)\n",
              "\n",
              "Residuals:\n",
              "     Min       1Q   Median       3Q      Max \n",
              "-5.20896 -1.14578 -0.02361  1.33303  4.77571 \n",
              "\n",
              "Coefficients:\n",
              "                  Estimate Std. Error t value Pr(>|t|)    \n",
              "(Intercept)       -0.35903    1.90830  -0.188   0.8508    \n",
              "urbanyes           0.04614    0.06039   0.764   0.4449    \n",
              "genderfemale      -0.07075    0.04997  -1.416   0.1569    \n",
              "ethnicityafam     -0.22724    0.09863  -2.304   0.0213 *  \n",
              "ethnicityhispanic -0.35129    0.07706  -4.559 5.28e-06 ***\n",
              "unemp              0.13916    0.00912  15.259  < 2e-16 ***\n",
              "education          0.64710    0.13594   4.760 1.99e-06 ***\n",
              "\n",
              "Diagnostic tests:\n",
              "                  df1  df2 statistic  p-value    \n",
              "Weak instruments    1 4732     50.31 1.51e-12 ***\n",
              "Wu-Hausman          1 4731     41.12 1.57e-10 ***\n",
              "Sargan              0   NA        NA       NA    \n",
              "---\n",
              "Signif. codes:  0 ‘***’ 0.001 ‘**’ 0.01 ‘*’ 0.05 ‘.’ 0.1 ‘ ’ 1\n",
              "\n",
              "Residual standard error: 1.706 on 4732 degrees of freedom\n",
              "Multiple R-Squared: -0.6118,\tAdjusted R-squared: -0.6138 \n",
              "Wald test: 57.48 on 6 and 4732 DF,  p-value: < 2.2e-16 \n"
            ]
          },
          "metadata": {}
        }
      ]
    },
    {
      "cell_type": "markdown",
      "source": [
        "## VI. Adding covariates\n",
        "To enter covariates (not as instruments), we will use the ivreg function from the \\textsc{ivreg} package."
      ],
      "metadata": {
        "id": "J6hm5ajDl3HF"
      }
    },
    {
      "cell_type": "code",
      "source": [
        "m5 <- ivreg::ivreg(wage ~ urban + gender + ethnicity + unemp|education|distance + urban + gender + ethnicity + unemp, data=CollegeDistance)\n",
        "\n",
        "summary(m5)"
      ],
      "metadata": {
        "colab": {
          "base_uri": "https://localhost:8080/",
          "height": 555
        },
        "id": "9jYWF69UlHIs",
        "outputId": "ef8dc8be-66a2-425c-a19a-0ddd7fefc474"
      },
      "execution_count": 30,
      "outputs": [
        {
          "output_type": "display_data",
          "data": {
            "text/plain": [
              "\n",
              "Call:\n",
              "ivreg::ivreg(formula = wage ~ urban + gender + ethnicity + unemp | \n",
              "    education | distance + urban + gender + ethnicity + unemp, \n",
              "    data = CollegeDistance)\n",
              "\n",
              "Residuals:\n",
              "     Min       1Q   Median       3Q      Max \n",
              "-5.20896 -1.14578 -0.02361  1.33303  4.77571 \n",
              "\n",
              "Coefficients:\n",
              "                  Estimate Std. Error t value Pr(>|t|)    \n",
              "(Intercept)       -0.35903    1.90830  -0.188   0.8508    \n",
              "education          0.64710    0.13594   4.760 1.99e-06 ***\n",
              "urbanyes           0.04614    0.06039   0.764   0.4449    \n",
              "genderfemale      -0.07075    0.04997  -1.416   0.1569    \n",
              "ethnicityafam     -0.22724    0.09863  -2.304   0.0213 *  \n",
              "ethnicityhispanic -0.35129    0.07706  -4.559 5.28e-06 ***\n",
              "unemp              0.13916    0.00912  15.259  < 2e-16 ***\n",
              "\n",
              "Diagnostic tests:\n",
              "                  df1  df2 statistic  p-value    \n",
              "Weak instruments    1 4732     50.31 1.51e-12 ***\n",
              "Wu-Hausman          1 4731     41.12 1.57e-10 ***\n",
              "Sargan              0   NA        NA       NA    \n",
              "---\n",
              "Signif. codes:  0 ‘***’ 0.001 ‘**’ 0.01 ‘*’ 0.05 ‘.’ 0.1 ‘ ’ 1\n",
              "\n",
              "Residual standard error: 1.706 on 4732 degrees of freedom\n",
              "Multiple R-Squared: -0.6118,\tAdjusted R-squared: -0.6138 \n",
              "Wald test: 57.48 on 6 and 4732 DF,  p-value: < 2.2e-16 \n"
            ]
          },
          "metadata": {}
        }
      ]
    },
    {
      "cell_type": "markdown",
      "source": [
        "# Part 2. Matching with R"
      ],
      "metadata": {
        "id": "L2pDyDOEl654"
      }
    },
    {
      "cell_type": "markdown",
      "source": [
        "\n",
        "# I. Introduction\n",
        "\n",
        "## The Data Set\n",
        "\n",
        "In this tutorial, we will be working with the Early Childhood Longitudinal Study (ECLS).\n",
        "\n",
        "- In the following analyses, we will examine the effect of going to Catholic school (\"treatment\") versus public school (\"control\") on mathematics achievement.\n",
        "\n",
        "## Load packages.\n",
        "\n",
        "We will use the following packages in R. If you do not have the packages installed, run the command ``install.packages(name of package)\" first.\n",
        "\n",
        "Then, load them into your console by running"
      ],
      "metadata": {
        "id": "YyEMjC4nmQ6u"
      }
    },
    {
      "cell_type": "code",
      "source": [
        "install.packages(\"MatchIt\")"
      ],
      "metadata": {
        "colab": {
          "base_uri": "https://localhost:8080/"
        },
        "id": "1ioiEWyTnfZH",
        "outputId": "627b38db-72dc-4657-d8a7-e2498f391131"
      },
      "execution_count": 31,
      "outputs": [
        {
          "output_type": "stream",
          "name": "stderr",
          "text": [
            "Installing package into ‘/usr/local/lib/R/site-library’\n",
            "(as ‘lib’ is unspecified)\n",
            "\n"
          ]
        }
      ]
    },
    {
      "cell_type": "code",
      "source": [
        "library(MatchIt)\n",
        "library(dplyr)"
      ],
      "metadata": {
        "id": "bhlK3hL9mNVJ"
      },
      "execution_count": 32,
      "outputs": []
    },
    {
      "cell_type": "code",
      "source": [
        "ecls <- read.csv(\"ecls.csv\", header = TRUE)\n",
        "head(ecls)"
      ],
      "metadata": {
        "colab": {
          "base_uri": "https://localhost:8080/",
          "height": 390
        },
        "id": "4g4w361BmcX3",
        "outputId": "b2830019-1db1-4f66-bc5b-82a7ad90a2ce"
      },
      "execution_count": 33,
      "outputs": [
        {
          "output_type": "display_data",
          "data": {
            "text/html": [
              "<table class=\"dataframe\">\n",
              "<caption>A data.frame: 6 × 22</caption>\n",
              "<thead>\n",
              "\t<tr><th></th><th scope=col>childid</th><th scope=col>catholic</th><th scope=col>race</th><th scope=col>race_white</th><th scope=col>race_black</th><th scope=col>race_hispanic</th><th scope=col>race_asian</th><th scope=col>p5numpla</th><th scope=col>p5hmage</th><th scope=col>p5hdage</th><th scope=col>⋯</th><th scope=col>w3daded_hsb</th><th scope=col>w3momed_hsb</th><th scope=col>w3momscr</th><th scope=col>w3dadscr</th><th scope=col>w3inccat</th><th scope=col>w3income</th><th scope=col>w3povrty</th><th scope=col>p5fstamp</th><th scope=col>c5r2mtsc</th><th scope=col>c5r2mtsc_std</th></tr>\n",
              "\t<tr><th></th><th scope=col>&lt;chr&gt;</th><th scope=col>&lt;int&gt;</th><th scope=col>&lt;chr&gt;</th><th scope=col>&lt;int&gt;</th><th scope=col>&lt;int&gt;</th><th scope=col>&lt;int&gt;</th><th scope=col>&lt;int&gt;</th><th scope=col>&lt;int&gt;</th><th scope=col>&lt;int&gt;</th><th scope=col>&lt;int&gt;</th><th scope=col>⋯</th><th scope=col>&lt;int&gt;</th><th scope=col>&lt;int&gt;</th><th scope=col>&lt;dbl&gt;</th><th scope=col>&lt;dbl&gt;</th><th scope=col>&lt;chr&gt;</th><th scope=col>&lt;dbl&gt;</th><th scope=col>&lt;int&gt;</th><th scope=col>&lt;int&gt;</th><th scope=col>&lt;dbl&gt;</th><th scope=col>&lt;dbl&gt;</th></tr>\n",
              "</thead>\n",
              "<tbody>\n",
              "\t<tr><th scope=row>1</th><td>0001002C</td><td>0</td><td>WHITE, NON-HISPANIC</td><td>1</td><td>0</td><td>0</td><td>0</td><td> 1</td><td>47</td><td>45</td><td>⋯</td><td> 0</td><td> 0</td><td>53.50</td><td>77.5</td><td>$50,001 TO $75,000  </td><td> 62500.5</td><td> 0</td><td> 0</td><td>60.043</td><td>0.9817533</td></tr>\n",
              "\t<tr><th scope=row>2</th><td>0001004C</td><td>0</td><td>WHITE, NON-HISPANIC</td><td>1</td><td>0</td><td>0</td><td>0</td><td> 1</td><td>41</td><td>48</td><td>⋯</td><td> 0</td><td> 0</td><td>34.95</td><td>53.5</td><td>$40,001 TO $50,000  </td><td> 45000.5</td><td> 0</td><td> 0</td><td>56.280</td><td>0.5943775</td></tr>\n",
              "\t<tr><th scope=row>3</th><td>0001005C</td><td>0</td><td>WHITE, NON-HISPANIC</td><td>1</td><td>0</td><td>0</td><td>0</td><td>NA</td><td>NA</td><td>NA</td><td>⋯</td><td>NA</td><td>NA</td><td>   NA</td><td>  NA</td><td>NA                  </td><td>      NA</td><td>NA</td><td>NA</td><td>53.791</td><td>0.3381515</td></tr>\n",
              "\t<tr><th scope=row>4</th><td>0001010C</td><td>0</td><td>WHITE, NON-HISPANIC</td><td>1</td><td>0</td><td>0</td><td>0</td><td> 1</td><td>43</td><td>55</td><td>⋯</td><td> 0</td><td> 0</td><td>63.43</td><td>53.5</td><td>$50,001 TO $75,000  </td><td> 62500.5</td><td> 0</td><td> 0</td><td>55.272</td><td>0.4906106</td></tr>\n",
              "\t<tr><th scope=row>5</th><td>0001011C</td><td>1</td><td>WHITE, NON-HISPANIC</td><td>1</td><td>0</td><td>0</td><td>0</td><td> 1</td><td>38</td><td>39</td><td>⋯</td><td> 0</td><td> 0</td><td>53.50</td><td>53.5</td><td>$75,001 TO $100,000 </td><td> 87500.5</td><td> 0</td><td> 0</td><td>64.604</td><td>1.4512779</td></tr>\n",
              "\t<tr><th scope=row>6</th><td>0001012C</td><td>0</td><td>WHITE, NON-HISPANIC</td><td>1</td><td>0</td><td>0</td><td>0</td><td> 1</td><td>47</td><td>57</td><td>⋯</td><td> 0</td><td> 0</td><td>61.56</td><td>77.5</td><td>$100,001 TO $200,000</td><td>150000.5</td><td> 0</td><td> 0</td><td>75.721</td><td>2.5956991</td></tr>\n",
              "</tbody>\n",
              "</table>\n"
            ],
            "text/markdown": "\nA data.frame: 6 × 22\n\n| <!--/--> | childid &lt;chr&gt; | catholic &lt;int&gt; | race &lt;chr&gt; | race_white &lt;int&gt; | race_black &lt;int&gt; | race_hispanic &lt;int&gt; | race_asian &lt;int&gt; | p5numpla &lt;int&gt; | p5hmage &lt;int&gt; | p5hdage &lt;int&gt; | ⋯ ⋯ | w3daded_hsb &lt;int&gt; | w3momed_hsb &lt;int&gt; | w3momscr &lt;dbl&gt; | w3dadscr &lt;dbl&gt; | w3inccat &lt;chr&gt; | w3income &lt;dbl&gt; | w3povrty &lt;int&gt; | p5fstamp &lt;int&gt; | c5r2mtsc &lt;dbl&gt; | c5r2mtsc_std &lt;dbl&gt; |\n|---|---|---|---|---|---|---|---|---|---|---|---|---|---|---|---|---|---|---|---|---|---|\n| 1 | 0001002C | 0 | WHITE, NON-HISPANIC | 1 | 0 | 0 | 0 |  1 | 47 | 45 | ⋯ |  0 |  0 | 53.50 | 77.5 | $50,001 TO $75,000   |  62500.5 |  0 |  0 | 60.043 | 0.9817533 |\n| 2 | 0001004C | 0 | WHITE, NON-HISPANIC | 1 | 0 | 0 | 0 |  1 | 41 | 48 | ⋯ |  0 |  0 | 34.95 | 53.5 | $40,001 TO $50,000   |  45000.5 |  0 |  0 | 56.280 | 0.5943775 |\n| 3 | 0001005C | 0 | WHITE, NON-HISPANIC | 1 | 0 | 0 | 0 | NA | NA | NA | ⋯ | NA | NA |    NA |   NA | NA                   |       NA | NA | NA | 53.791 | 0.3381515 |\n| 4 | 0001010C | 0 | WHITE, NON-HISPANIC | 1 | 0 | 0 | 0 |  1 | 43 | 55 | ⋯ |  0 |  0 | 63.43 | 53.5 | $50,001 TO $75,000   |  62500.5 |  0 |  0 | 55.272 | 0.4906106 |\n| 5 | 0001011C | 1 | WHITE, NON-HISPANIC | 1 | 0 | 0 | 0 |  1 | 38 | 39 | ⋯ |  0 |  0 | 53.50 | 53.5 | $75,001 TO $100,000  |  87500.5 |  0 |  0 | 64.604 | 1.4512779 |\n| 6 | 0001012C | 0 | WHITE, NON-HISPANIC | 1 | 0 | 0 | 0 |  1 | 47 | 57 | ⋯ |  0 |  0 | 61.56 | 77.5 | $100,001 TO $200,000 | 150000.5 |  0 |  0 | 75.721 | 2.5956991 |\n\n",
            "text/latex": "A data.frame: 6 × 22\n\\begin{tabular}{r|lllllllllllllllllllll}\n  & childid & catholic & race & race\\_white & race\\_black & race\\_hispanic & race\\_asian & p5numpla & p5hmage & p5hdage & ⋯ & w3daded\\_hsb & w3momed\\_hsb & w3momscr & w3dadscr & w3inccat & w3income & w3povrty & p5fstamp & c5r2mtsc & c5r2mtsc\\_std\\\\\n  & <chr> & <int> & <chr> & <int> & <int> & <int> & <int> & <int> & <int> & <int> & ⋯ & <int> & <int> & <dbl> & <dbl> & <chr> & <dbl> & <int> & <int> & <dbl> & <dbl>\\\\\n\\hline\n\t1 & 0001002C & 0 & WHITE, NON-HISPANIC & 1 & 0 & 0 & 0 &  1 & 47 & 45 & ⋯ &  0 &  0 & 53.50 & 77.5 & \\$50,001 TO \\$75,000   &  62500.5 &  0 &  0 & 60.043 & 0.9817533\\\\\n\t2 & 0001004C & 0 & WHITE, NON-HISPANIC & 1 & 0 & 0 & 0 &  1 & 41 & 48 & ⋯ &  0 &  0 & 34.95 & 53.5 & \\$40,001 TO \\$50,000   &  45000.5 &  0 &  0 & 56.280 & 0.5943775\\\\\n\t3 & 0001005C & 0 & WHITE, NON-HISPANIC & 1 & 0 & 0 & 0 & NA & NA & NA & ⋯ & NA & NA &    NA &   NA & NA                   &       NA & NA & NA & 53.791 & 0.3381515\\\\\n\t4 & 0001010C & 0 & WHITE, NON-HISPANIC & 1 & 0 & 0 & 0 &  1 & 43 & 55 & ⋯ &  0 &  0 & 63.43 & 53.5 & \\$50,001 TO \\$75,000   &  62500.5 &  0 &  0 & 55.272 & 0.4906106\\\\\n\t5 & 0001011C & 1 & WHITE, NON-HISPANIC & 1 & 0 & 0 & 0 &  1 & 38 & 39 & ⋯ &  0 &  0 & 53.50 & 53.5 & \\$75,001 TO \\$100,000  &  87500.5 &  0 &  0 & 64.604 & 1.4512779\\\\\n\t6 & 0001012C & 0 & WHITE, NON-HISPANIC & 1 & 0 & 0 & 0 &  1 & 47 & 57 & ⋯ &  0 &  0 & 61.56 & 77.5 & \\$100,001 TO \\$200,000 & 150000.5 &  0 &  0 & 75.721 & 2.5956991\\\\\n\\end{tabular}\n",
            "text/plain": [
              "  childid  catholic race                race_white race_black race_hispanic\n",
              "1 0001002C 0        WHITE, NON-HISPANIC 1          0          0            \n",
              "2 0001004C 0        WHITE, NON-HISPANIC 1          0          0            \n",
              "3 0001005C 0        WHITE, NON-HISPANIC 1          0          0            \n",
              "4 0001010C 0        WHITE, NON-HISPANIC 1          0          0            \n",
              "5 0001011C 1        WHITE, NON-HISPANIC 1          0          0            \n",
              "6 0001012C 0        WHITE, NON-HISPANIC 1          0          0            \n",
              "  race_asian p5numpla p5hmage p5hdage ⋯ w3daded_hsb w3momed_hsb w3momscr\n",
              "1 0           1       47      45      ⋯  0           0          53.50   \n",
              "2 0           1       41      48      ⋯  0           0          34.95   \n",
              "3 0          NA       NA      NA      ⋯ NA          NA             NA   \n",
              "4 0           1       43      55      ⋯  0           0          63.43   \n",
              "5 0           1       38      39      ⋯  0           0          53.50   \n",
              "6 0           1       47      57      ⋯  0           0          61.56   \n",
              "  w3dadscr w3inccat             w3income w3povrty p5fstamp c5r2mtsc\n",
              "1 77.5     $50,001 TO $75,000    62500.5  0        0       60.043  \n",
              "2 53.5     $40,001 TO $50,000    45000.5  0        0       56.280  \n",
              "3   NA     NA                         NA NA       NA       53.791  \n",
              "4 53.5     $50,001 TO $75,000    62500.5  0        0       55.272  \n",
              "5 53.5     $75,001 TO $100,000   87500.5  0        0       64.604  \n",
              "6 77.5     $100,001 TO $200,000 150000.5  0        0       75.721  \n",
              "  c5r2mtsc_std\n",
              "1 0.9817533   \n",
              "2 0.5943775   \n",
              "3 0.3381515   \n",
              "4 0.4906106   \n",
              "5 1.4512779   \n",
              "6 2.5956991   "
            ]
          },
          "metadata": {}
        }
      ]
    },
    {
      "cell_type": "markdown",
      "source": [
        "# II. Analysis using non-matched data\n",
        "\n",
        "## Difference in means using the outcome variable.\n",
        "Because students who attend Catholic or public school often self-select or choose to attend these schools, we have a problem of non-equivalent comparison groups.\n",
        "\n",
        "- Let's first compare the average math achievement scores between Catholic and public school students without matching.\n",
        "\n",
        "- The variable \\textbf{c5r2mtsc\\_std} is the students' standardized math score with a mean of 0 and standard deviation of 1. Because this name is long and easy\n",
        "to misspell, we will duplicate this variable and rename it ``math.\"\n",
        "\n",
        "- The independent variable of interest is \\textbf{catholic} (1 = student went to Catholic school; 0 = student went to public school)."
      ],
      "metadata": {
        "id": "xKxwmIeHmgdf"
      }
    },
    {
      "cell_type": "code",
      "source": [
        "ecls$math <- ecls$c5r2mtsc_std\n",
        "\n",
        "ecls %>%\n",
        "  group_by(catholic) %>%\n",
        "\n",
        "summarise(n_students=n(),\n",
        "          mean_math=mean(c5r2mtsc_std),\n",
        "          std_error = sd(c5r2mtsc_std)/sqrt(n_students))"
      ],
      "metadata": {
        "colab": {
          "base_uri": "https://localhost:8080/",
          "height": 161
        },
        "id": "QIgQNJVxmiVH",
        "outputId": "afd29a07-b95c-47d9-de05-ea9950e3e746"
      },
      "execution_count": 34,
      "outputs": [
        {
          "output_type": "display_data",
          "data": {
            "text/html": [
              "<table class=\"dataframe\">\n",
              "<caption>A tibble: 2 × 4</caption>\n",
              "<thead>\n",
              "\t<tr><th scope=col>catholic</th><th scope=col>n_students</th><th scope=col>mean_math</th><th scope=col>std_error</th></tr>\n",
              "\t<tr><th scope=col>&lt;int&gt;</th><th scope=col>&lt;int&gt;</th><th scope=col>&lt;dbl&gt;</th><th scope=col>&lt;dbl&gt;</th></tr>\n",
              "</thead>\n",
              "<tbody>\n",
              "\t<tr><td>0</td><td>9568</td><td>-0.03059583</td><td>0.01038536</td></tr>\n",
              "\t<tr><td>1</td><td>1510</td><td> 0.19386817</td><td>0.02235282</td></tr>\n",
              "</tbody>\n",
              "</table>\n"
            ],
            "text/markdown": "\nA tibble: 2 × 4\n\n| catholic &lt;int&gt; | n_students &lt;int&gt; | mean_math &lt;dbl&gt; | std_error &lt;dbl&gt; |\n|---|---|---|---|\n| 0 | 9568 | -0.03059583 | 0.01038536 |\n| 1 | 1510 |  0.19386817 | 0.02235282 |\n\n",
            "text/latex": "A tibble: 2 × 4\n\\begin{tabular}{llll}\n catholic & n\\_students & mean\\_math & std\\_error\\\\\n <int> & <int> & <dbl> & <dbl>\\\\\n\\hline\n\t 0 & 9568 & -0.03059583 & 0.01038536\\\\\n\t 1 & 1510 &  0.19386817 & 0.02235282\\\\\n\\end{tabular}\n",
            "text/plain": [
              "  catholic n_students mean_math   std_error \n",
              "1 0        9568       -0.03059583 0.01038536\n",
              "2 1        1510        0.19386817 0.02235282"
            ]
          },
          "metadata": {}
        }
      ]
    },
    {
      "cell_type": "markdown",
      "source": [
        "- The \\%>\\% is a function that passes the data through the \\textbf{group\\_by} function. We use it to group the students by Catholic/public schools.\n",
        "\n",
        "- \\textbf{summarise()} provides a summary of the variables.\n",
        "\n",
        "## Is the average math score among Catholic school students significantly different than the average math score among public school students?\n",
        "\n",
        "- We can test this hypothesis using a two-sample t-test. This is done as follows."
      ],
      "metadata": {
        "id": "TLaMej_smjvY"
      }
    },
    {
      "cell_type": "code",
      "source": [
        "with(ecls,t.test(c5r2mtsc_std ~ catholic))"
      ],
      "metadata": {
        "id": "8KdIEY0PmmM0",
        "outputId": "9ff4b565-7d97-4470-9016-f97f9f069b95",
        "colab": {
          "base_uri": "https://localhost:8080/",
          "height": 208
        }
      },
      "execution_count": 35,
      "outputs": [
        {
          "output_type": "display_data",
          "data": {
            "text/plain": [
              "\n",
              "\tWelch Two Sample t-test\n",
              "\n",
              "data:  c5r2mtsc_std by catholic\n",
              "t = -9.1069, df = 2214.5, p-value < 2.2e-16\n",
              "alternative hypothesis: true difference in means between group 0 and group 1 is not equal to 0\n",
              "95 percent confidence interval:\n",
              " -0.2727988 -0.1761292\n",
              "sample estimates:\n",
              "mean in group 0 mean in group 1 \n",
              "    -0.03059583      0.19386817 \n"
            ]
          },
          "metadata": {}
        }
      ]
    },
    {
      "cell_type": "markdown",
      "source": [
        "## Difference in means: pre-treatment covariates\n",
        "\n",
        "Consider the following covariates:\n",
        "\n",
        "- \\textbf{race\\_white} : Is the student white (1) or not (0)?\n",
        "\n",
        "- \\textbf{p5hmage}: Mother's age\n",
        "\n",
        "- \\textbf{w3income}: Family income\n",
        "\n",
        "- \\textbf{p5numpla}: Number of places the student has lived for at least 4 months\n",
        "\n",
        "- \\textbf{w3momed\\_hsb}: Is the mother's education level high-school or below (1) or some college or more (0)?\n",
        "\n",
        "## Calculate the mean for each covariate by school type."
      ],
      "metadata": {
        "id": "TMNS-KFCmn8I"
      }
    },
    {
      "cell_type": "code",
      "source": [
        "ecls %>%\n",
        "  group_by(catholic) %>%\n",
        "  summarise(across(c(race_white, p5hmage, w3income, p5numpla, w3momed_hsb),\n",
        "                   ~ mean(.x, na.rm = TRUE)),\n",
        "            .groups = 'drop') %>%\n",
        "  as.data.frame()"
      ],
      "metadata": {
        "id": "MEGEMB5qmp4V",
        "outputId": "a5d21cb5-f141-4f2e-e8fb-6eecb04f3a8d",
        "colab": {
          "base_uri": "https://localhost:8080/",
          "height": 161
        }
      },
      "execution_count": 37,
      "outputs": [
        {
          "output_type": "display_data",
          "data": {
            "text/html": [
              "<table class=\"dataframe\">\n",
              "<caption>A data.frame: 2 × 6</caption>\n",
              "<thead>\n",
              "\t<tr><th scope=col>catholic</th><th scope=col>race_white</th><th scope=col>p5hmage</th><th scope=col>w3income</th><th scope=col>p5numpla</th><th scope=col>w3momed_hsb</th></tr>\n",
              "\t<tr><th scope=col>&lt;int&gt;</th><th scope=col>&lt;dbl&gt;</th><th scope=col>&lt;dbl&gt;</th><th scope=col>&lt;dbl&gt;</th><th scope=col>&lt;dbl&gt;</th><th scope=col>&lt;dbl&gt;</th></tr>\n",
              "</thead>\n",
              "<tbody>\n",
              "\t<tr><td>0</td><td>0.5561246</td><td>37.56097</td><td>54889.16</td><td>1.132669</td><td>0.4640918</td></tr>\n",
              "\t<tr><td>1</td><td>0.7251656</td><td>39.57516</td><td>82074.30</td><td>1.092701</td><td>0.2272069</td></tr>\n",
              "</tbody>\n",
              "</table>\n"
            ],
            "text/markdown": "\nA data.frame: 2 × 6\n\n| catholic &lt;int&gt; | race_white &lt;dbl&gt; | p5hmage &lt;dbl&gt; | w3income &lt;dbl&gt; | p5numpla &lt;dbl&gt; | w3momed_hsb &lt;dbl&gt; |\n|---|---|---|---|---|---|\n| 0 | 0.5561246 | 37.56097 | 54889.16 | 1.132669 | 0.4640918 |\n| 1 | 0.7251656 | 39.57516 | 82074.30 | 1.092701 | 0.2272069 |\n\n",
            "text/latex": "A data.frame: 2 × 6\n\\begin{tabular}{llllll}\n catholic & race\\_white & p5hmage & w3income & p5numpla & w3momed\\_hsb\\\\\n <int> & <dbl> & <dbl> & <dbl> & <dbl> & <dbl>\\\\\n\\hline\n\t 0 & 0.5561246 & 37.56097 & 54889.16 & 1.132669 & 0.4640918\\\\\n\t 1 & 0.7251656 & 39.57516 & 82074.30 & 1.092701 & 0.2272069\\\\\n\\end{tabular}\n",
            "text/plain": [
              "  catholic race_white p5hmage  w3income p5numpla w3momed_hsb\n",
              "1 0        0.5561246  37.56097 54889.16 1.132669 0.4640918  \n",
              "2 1        0.7251656  39.57516 82074.30 1.092701 0.2272069  "
            ]
          },
          "metadata": {}
        }
      ]
    },
    {
      "cell_type": "markdown",
      "source": [
        "## Test whether the covariate means are significantly different from each other using a t-test."
      ],
      "metadata": {
        "id": "s-3wPzqbmsXC"
      }
    },
    {
      "cell_type": "code",
      "source": [
        "lapply(ecls_cov, function(v) {\n",
        "    t.test(ecls[, v] ~ ecls[, 'catholic'])\n",
        "})"
      ],
      "metadata": {
        "id": "G6q08I4gmqpZ",
        "outputId": "63b8be65-6aff-41bc-ee4c-d1bd8b16421d",
        "colab": {
          "base_uri": "https://localhost:8080/",
          "height": 1000
        }
      },
      "execution_count": 38,
      "outputs": [
        {
          "output_type": "display_data",
          "data": {
            "text/plain": [
              "[[1]]\n",
              "\n",
              "\tWelch Two Sample t-test\n",
              "\n",
              "data:  ecls[, v] by ecls[, \"catholic\"]\n",
              "t = -13.453, df = 2143.3, p-value < 2.2e-16\n",
              "alternative hypothesis: true difference in means between group 0 and group 1 is not equal to 0\n",
              "95 percent confidence interval:\n",
              " -0.1936817 -0.1444003\n",
              "sample estimates:\n",
              "mean in group 0 mean in group 1 \n",
              "      0.5561246       0.7251656 \n",
              "\n",
              "\n",
              "[[2]]\n",
              "\n",
              "\tWelch Two Sample t-test\n",
              "\n",
              "data:  ecls[, v] by ecls[, \"catholic\"]\n",
              "t = -12.665, df = 2186.9, p-value < 2.2e-16\n",
              "alternative hypothesis: true difference in means between group 0 and group 1 is not equal to 0\n",
              "95 percent confidence interval:\n",
              " -2.326071 -1.702317\n",
              "sample estimates:\n",
              "mean in group 0 mean in group 1 \n",
              "       37.56097        39.57516 \n",
              "\n",
              "\n",
              "[[3]]\n",
              "\n",
              "\tWelch Two Sample t-test\n",
              "\n",
              "data:  ecls[, v] by ecls[, \"catholic\"]\n",
              "t = -20.25, df = 1825.1, p-value < 2.2e-16\n",
              "alternative hypothesis: true difference in means between group 0 and group 1 is not equal to 0\n",
              "95 percent confidence interval:\n",
              " -29818.10 -24552.18\n",
              "sample estimates:\n",
              "mean in group 0 mean in group 1 \n",
              "       54889.16        82074.30 \n",
              "\n",
              "\n",
              "[[4]]\n",
              "\n",
              "\tWelch Two Sample t-test\n",
              "\n",
              "data:  ecls[, v] by ecls[, \"catholic\"]\n",
              "t = 4.2458, df = 2233.7, p-value = 2.267e-05\n",
              "alternative hypothesis: true difference in means between group 0 and group 1 is not equal to 0\n",
              "95 percent confidence interval:\n",
              " 0.02150833 0.05842896\n",
              "sample estimates:\n",
              "mean in group 0 mean in group 1 \n",
              "       1.132669        1.092701 \n",
              "\n",
              "\n",
              "[[5]]\n",
              "\n",
              "\tWelch Two Sample t-test\n",
              "\n",
              "data:  ecls[, v] by ecls[, \"catholic\"]\n",
              "t = 18.855, df = 2107.3, p-value < 2.2e-16\n",
              "alternative hypothesis: true difference in means between group 0 and group 1 is not equal to 0\n",
              "95 percent confidence interval:\n",
              " 0.2122471 0.2615226\n",
              "sample estimates:\n",
              "mean in group 0 mean in group 1 \n",
              "      0.4640918       0.2272069 \n",
              "\n"
            ]
          },
          "metadata": {}
        }
      ]
    },
    {
      "cell_type": "markdown",
      "source": [
        "- The code above conducts a t-test for each covariate in the order of the \\textbf{ecls\\_cov} vector. You can also do the t-tests individually using the following code:"
      ],
      "metadata": {
        "id": "4oP-tLgvmvUe"
      }
    },
    {
      "cell_type": "markdown",
      "source": [
        "\n",
        "# III. Matching\n",
        "\n",
        "## Nearest-Neighbor Matching\n",
        "\n",
        "Suppose we wanted to match the Catholic and public school students based on the family income covariate, \\textbf{w3income}.\n",
        "\n",
        "- To match students, we use the package \\textsc{MatchIt} in R.\n",
        "\n",
        "- However, MatchIt does not allow missing values and there are missing values for certain variables in the ECLS data. We first remove them using the following code."
      ],
      "metadata": {
        "id": "5zlqeWGvmxSZ"
      }
    },
    {
      "cell_type": "code",
      "source": [
        "ecls2 <- ecls %>%\n",
        "  select(math, catholic, one_of(ecls_cov)) %>%\n",
        "  na.omit()"
      ],
      "metadata": {
        "id": "N_4XaRE1myiY"
      },
      "execution_count": 39,
      "outputs": []
    },
    {
      "cell_type": "markdown",
      "source": [
        "\n",
        "- The code above removes all the missing values for the covariates in \\textbf{ecls\\_cov}.\n"
      ],
      "metadata": {
        "id": "D1PEhCC5m2rM"
      }
    },
    {
      "cell_type": "code",
      "source": [
        "ecls_nearest <- matchit(catholic ~ w3income, family = \"binomial\", method = \"nearest\", caliper = 0.25,\n",
        "                      data = ecls2)"
      ],
      "metadata": {
        "id": "DtisFrlPm1gj"
      },
      "execution_count": 40,
      "outputs": []
    },
    {
      "cell_type": "markdown",
      "source": [
        "- Assess the matches under nearest neighbor matching as follows"
      ],
      "metadata": {
        "id": "-9QjfitRm5Sj"
      }
    },
    {
      "cell_type": "code",
      "source": [
        "summary(ecls_nearest)\n",
        "\n",
        "plot(ecls_nearest)"
      ],
      "metadata": {
        "id": "FmGQhUmem7R9",
        "outputId": "85313ca7-0650-4956-bb01-95764c2a621e",
        "colab": {
          "base_uri": "https://localhost:8080/",
          "height": 906
        }
      },
      "execution_count": 41,
      "outputs": [
        {
          "output_type": "display_data",
          "data": {
            "text/plain": [
              "\n",
              "Call:\n",
              "matchit(formula = catholic ~ w3income, data = ecls2, method = \"nearest\", \n",
              "    caliper = 0.25, family = \"binomial\")\n",
              "\n",
              "Summary of Balance for All Data:\n",
              "         Means Treated Means Control Std. Mean Diff. Var. Ratio eCDF Mean\n",
              "distance          0.18        0.1401          0.4733     1.3553    0.1565\n",
              "w3income      82568.94    55485.0210          0.5777     1.1373    0.1565\n",
              "         eCDF Max\n",
              "distance   0.3062\n",
              "w3income   0.3062\n",
              "\n",
              "Summary of Balance for Matched Data:\n",
              "         Means Treated Means Control Std. Mean Diff. Var. Ratio eCDF Mean\n",
              "distance          0.18          0.18               0          1         0\n",
              "w3income      82568.94      82568.94               0          1         0\n",
              "         eCDF Max Std. Pair Dist.\n",
              "distance        0               0\n",
              "w3income        0               0\n",
              "\n",
              "Sample Sizes:\n",
              "          Control Treated\n",
              "All          7915    1352\n",
              "Matched      1352    1352\n",
              "Unmatched    6563       0\n",
              "Discarded       0       0\n"
            ]
          },
          "metadata": {}
        },
        {
          "output_type": "display_data",
          "data": {
            "text/plain": [
              "plot without title"
            ],
            "image/png": "[encoded data removed]"
          },
          "metadata": {
            "image/png": {
              "width": 420,
              "height": 420
            }
          }
        }
      ]
    },
    {
      "cell_type": "markdown",
      "source": [
        "- The QQ plot given by the \\textbf{plot} command determines whether the samples come from the same distribution. After matching, we should see the points lie on the 45 degree line.\n",
        "\n",
        "- We can also create a data frame with only the matched observations from nearest neighbor matching using the \\textbf{match.data()} function:"
      ],
      "metadata": {
        "id": "4zj1c4GSm8kf"
      }
    },
    {
      "cell_type": "code",
      "source": [
        "ecls_nearest_matched <- match.data(ecls_nearest)\n",
        "\n",
        "dim(ecls_nearest_matched)"
      ],
      "metadata": {
        "id": "1wcJhgz7m-SP",
        "outputId": "4bdfb5e3-f272-4bc7-d367-d739d966b911",
        "colab": {
          "base_uri": "https://localhost:8080/",
          "height": 34
        }
      },
      "execution_count": 42,
      "outputs": [
        {
          "output_type": "display_data",
          "data": {
            "text/html": [
              "<style>\n",
              ".list-inline {list-style: none; margin:0; padding: 0}\n",
              ".list-inline>li {display: inline-block}\n",
              ".list-inline>li:not(:last-child)::after {content: \"\\00b7\"; padding: 0 .5ex}\n",
              "</style>\n",
              "<ol class=list-inline><li>2704</li><li>10</li></ol>\n"
            ],
            "text/markdown": "1. 2704\n2. 10\n\n\n",
            "text/latex": "\\begin{enumerate*}\n\\item 2704\n\\item 10\n\\end{enumerate*}\n",
            "text/plain": [
              "[1] 2704   10"
            ]
          },
          "metadata": {}
        }
      ]
    },
    {
      "cell_type": "markdown",
      "source": [
        "- Note that only 2704 students were matched.\n",
        "\n",
        "\n",
        "- To assess whether matching was effective, we provide the means of the matching covariate."
      ],
      "metadata": {
        "id": "49006t-Lm_0F"
      }
    },
    {
      "cell_type": "code",
      "source": [
        "ecls_nearest_matched %>%\n",
        "  group_by(catholic) %>%\n",
        "  summarise(mean_income = mean(w3income)) %>%\n",
        "  as.data.frame()"
      ],
      "metadata": {
        "id": "71PO2B25nCcj",
        "outputId": "467d476c-bcde-4660-908e-4a727e9b918b",
        "colab": {
          "base_uri": "https://localhost:8080/",
          "height": 161
        }
      },
      "execution_count": 43,
      "outputs": [
        {
          "output_type": "display_data",
          "data": {
            "text/html": [
              "<table class=\"dataframe\">\n",
              "<caption>A data.frame: 2 × 2</caption>\n",
              "<thead>\n",
              "\t<tr><th scope=col>catholic</th><th scope=col>mean_income</th></tr>\n",
              "\t<tr><th scope=col>&lt;int&gt;</th><th scope=col>&lt;dbl&gt;</th></tr>\n",
              "</thead>\n",
              "<tbody>\n",
              "\t<tr><td>0</td><td>82568.94</td></tr>\n",
              "\t<tr><td>1</td><td>82568.94</td></tr>\n",
              "</tbody>\n",
              "</table>\n"
            ],
            "text/markdown": "\nA data.frame: 2 × 2\n\n| catholic &lt;int&gt; | mean_income &lt;dbl&gt; |\n|---|---|\n| 0 | 82568.94 |\n| 1 | 82568.94 |\n\n",
            "text/latex": "A data.frame: 2 × 2\n\\begin{tabular}{ll}\n catholic & mean\\_income\\\\\n <int> & <dbl>\\\\\n\\hline\n\t 0 & 82568.94\\\\\n\t 1 & 82568.94\\\\\n\\end{tabular}\n",
            "text/plain": [
              "  catholic mean_income\n",
              "1 0        82568.94   \n",
              "2 1        82568.94   "
            ]
          },
          "metadata": {}
        }
      ]
    },
    {
      "cell_type": "markdown",
      "source": [
        "- Another way of assessing the matches is by conducting a t-test"
      ],
      "metadata": {
        "id": "rSLmUURXnCNa"
      }
    },
    {
      "cell_type": "code",
      "source": [
        "with(ecls_nearest_matched,t.test(w3income ~ catholic))"
      ],
      "metadata": {
        "id": "DuZsN8TLnFYi",
        "outputId": "20ccc476-c8bc-4f01-a796-993ff55e1935",
        "colab": {
          "base_uri": "https://localhost:8080/",
          "height": 208
        }
      },
      "execution_count": 44,
      "outputs": [
        {
          "output_type": "display_data",
          "data": {
            "text/plain": [
              "\n",
              "\tWelch Two Sample t-test\n",
              "\n",
              "data:  w3income by catholic\n",
              "t = 0, df = 2702, p-value = 1\n",
              "alternative hypothesis: true difference in means between group 0 and group 1 is not equal to 0\n",
              "95 percent confidence interval:\n",
              " -3535.739  3535.739\n",
              "sample estimates:\n",
              "mean in group 0 mean in group 1 \n",
              "       82568.94        82568.94 \n"
            ]
          },
          "metadata": {}
        }
      ]
    },
    {
      "cell_type": "markdown",
      "source": [
        "## Matching using the Mahalanobis distance\n",
        "\n",
        "- When we match students based on a vector of covariates (more than one), the Mahalanobis distance offers another type of distance criterion based on a caliper to judge matches.\n",
        "\n",
        "- Suppose we match on all five of the covariates described earlier (race, mother's age, family income, number of places the student has lived, and mother's education level)."
      ],
      "metadata": {
        "id": "du-Wyw-WnHkY"
      }
    },
    {
      "cell_type": "code",
      "source": [
        "ecls_mahala <- matchit(catholic ~ race_white + p5hmage + w3income + p5numpla + w3momed_hsb,\n",
        "                       family = \"binomial\", distance = \"mahalanobis\",data = ecls2)"
      ],
      "metadata": {
        "id": "hi5C5beBnI9S"
      },
      "execution_count": 45,
      "outputs": []
    },
    {
      "cell_type": "markdown",
      "source": [
        "- Retrieve the matched data set:"
      ],
      "metadata": {
        "id": "x4ge_cvBnK3b"
      }
    },
    {
      "cell_type": "code",
      "source": [
        "ecls_mahala_matched <- match.data(ecls_mahala)"
      ],
      "metadata": {
        "id": "tPtRJLU5nLIo"
      },
      "execution_count": 46,
      "outputs": []
    },
    {
      "cell_type": "markdown",
      "source": [
        "- If you would like to base your matches on a specific caliper, enter the \\textbf{caliper} argument in the \\textbf{matchit} function.\n",
        "\n",
        "## Matching using a propensity score\n",
        "\n",
        "- A propensity score is a summary univariate measure of the covariates used in matching students from the treatment and control groups.\n",
        "\n",
        "- We can estimate the propensity scores and perform the matching using the same five covariates as under the Mahalanobis distance."
      ],
      "metadata": {
        "id": "J0csUQ_2nNgP"
      }
    },
    {
      "cell_type": "code",
      "source": [
        "ecls_propensity <- matchit(catholic ~ race_white + p5hmage + w3income + p5numpla + w3momed_hsb,\n",
        "                       family = \"binomial\",data=ecls2)\n",
        "\n",
        "ecls_propensity_matched <- match.data(ecls_propensity)"
      ],
      "metadata": {
        "id": "N8xrGs6vnO66"
      },
      "execution_count": 47,
      "outputs": []
    },
    {
      "cell_type": "markdown",
      "source": [
        "#### QQ plots to assess balance"
      ],
      "metadata": {
        "id": "LS_03Gl7nQkl"
      }
    },
    {
      "cell_type": "code",
      "source": [
        "plot(ecls_propensity)"
      ],
      "metadata": {
        "id": "1fO3dgMNnRvu",
        "outputId": "34b0d8b7-c36e-42cb-b771-1ea755619c49",
        "colab": {
          "base_uri": "https://localhost:8080/",
          "height": 857
        }
      },
      "execution_count": 48,
      "outputs": [
        {
          "output_type": "display_data",
          "data": {
            "text/plain": [
              "plot without title"
            ],
            "image/png": "[encoded data removed]"
          },
          "metadata": {
            "image/png": {
              "width": 420,
              "height": 420
            }
          }
        },
        {
          "output_type": "display_data",
          "data": {
            "text/plain": [
              "plot without title"
            ],
            "image/png": "[encoded data removed]"
          },
          "metadata": {
            "image/png": {
              "width": 420,
              "height": 420
            }
          }
        }
      ]
    },
    {
      "cell_type": "markdown",
      "source": [
        "#### Histograms to assess balance"
      ],
      "metadata": {
        "id": "hc_SG_QEnSzw"
      }
    },
    {
      "cell_type": "code",
      "source": [
        "plot(ecls_propensity,type=\"hist\")"
      ],
      "metadata": {
        "id": "iOYucjNJnTLz",
        "outputId": "0b4c42e9-4830-4b93-fbeb-6490237d6fc5",
        "colab": {
          "base_uri": "https://localhost:8080/",
          "height": 437
        }
      },
      "execution_count": 49,
      "outputs": [
        {
          "output_type": "display_data",
          "data": {
            "text/plain": [
              "Plot with title “Matched Control”"
            ],
            "image/png": "[encoded data removed]"
          },
          "metadata": {
            "image/png": {
              "width": 420,
              "height": 420
            }
          }
        }
      ]
    },
    {
      "cell_type": "markdown",
      "source": [
        "### Jitter plots to assess balance"
      ],
      "metadata": {
        "id": "HacEnHERnTcQ"
      }
    },
    {
      "cell_type": "code",
      "source": [
        "plot(ecls_propensity,type=\"jitter\")"
      ],
      "metadata": {
        "id": "6LMKqh4NmKNV",
        "outputId": "358381c7-2cf6-4e35-d86c-7b7d705dd267",
        "colab": {
          "base_uri": "https://localhost:8080/",
          "height": 454
        }
      },
      "execution_count": 50,
      "outputs": [
        {
          "output_type": "stream",
          "name": "stdout",
          "text": [
            "To identify the units, use first mouse button; to stop, use second.\n"
          ]
        },
        {
          "output_type": "display_data",
          "data": {
            "text/plain": [
              "Plot with title “Distribution of Propensity Scores”"
            ],
            "image/png": "[encoded data removed]"
          },
          "metadata": {
            "image/png": {
              "width": 420,
              "height": 420
            }
          }
        }
      ]
    }
  ]
}